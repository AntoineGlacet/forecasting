{
 "cells": [
  {
   "attachments": {},
   "cell_type": "markdown",
   "metadata": {},
   "source": [
    "# Join Pax data from Beontra into AOS data"
   ]
  },
  {
   "attachments": {},
   "cell_type": "markdown",
   "metadata": {},
   "source": [
    "Working on the AOS data, I realized that we need to remove some lines that do not follow the logic of \"flight_data\".\n",
    "All flight data should end up in \"flight_data\" table: all airports, direction, sources (eg. AODB, forecast, etc).\n",
    "The goal is to be able to easily analyze, compare and create tools from this single table. (== same format)\n",
    "\n",
    "In \"flight_data\" one line = one movement (arrival or departure)\n",
    "However, in AOS data, some lines do not represent a movement of an aircraft.\n",
    "\n",
    "The Pax values are OK as merged with the logic in this notebook, however some extra step will be required.\n",
    "\n",
    "After dividing AOS between arrivals and departures, we should try removing the following lines in the 2 tables (aos_arrival & aos_departure):\n",
    "- \"flight number\" starting with \"STAY\"\n",
    "- nan \"link_arrival\" or \"link_departure\"\n",
    "- \"link_arrival\" or \"link_departure\" not 19 char long\n"
   ]
  },
  {
   "attachments": {},
   "cell_type": "markdown",
   "metadata": {},
   "source": [
    "## import and csv read"
   ]
  },
  {
   "cell_type": "code",
   "execution_count": null,
   "metadata": {},
   "outputs": [],
   "source": [
    "import pandas as pd"
   ]
  },
  {
   "cell_type": "code",
   "execution_count": null,
   "metadata": {},
   "outputs": [],
   "source": [
    "# transform to csv and remove useless header\n",
    "# aos = pd.read_excel(\"../data/KIX_AOS_data/Actual Data_AOS_KIX_2018.xlsx\",header=1)\n",
    "# beontra = pd.read_excel(\"../data/KIX_Beontra_data/CY2018 KIX.xlsx\",header=1)\n",
    "# aos.to_csv(\"../data/KIX_AOS_data/Actual Data_AOS_KIX_2018.csv\")\n",
    "# beontra.to_csv(\"../data/KIX_Beontra_data/CY2018 KIX.csv\")"
   ]
  },
  {
   "cell_type": "code",
   "execution_count": null,
   "metadata": {},
   "outputs": [],
   "source": [
    "aos = pd.read_csv(\"../data/KIX_AOS_data/Actual Data_AOS_KIX_2018.csv\")\n",
    "beontra = pd.read_csv(\"../data/KIX_Beontra_data/CY2018 KIX.csv\")"
   ]
  },
  {
   "attachments": {},
   "cell_type": "markdown",
   "metadata": {},
   "source": [
    "## Build the key to join AOS <-> Beontra"
   ]
  },
  {
   "cell_type": "code",
   "execution_count": null,
   "metadata": {},
   "outputs": [],
   "source": [
    "# key for AOS\n",
    "aos[[\"[Arr]ALcode\", \"[Arr]FLnumber\", \"[Arr]OpsSuffix\"]] = aos[\"到着便航空機識別\"].str.extract(\n",
    "    \"([A-Za-z]+)(\\d*)([A-Za-z]*)\", expand=True\n",
    ")\n",
    "\n",
    "aos[[\"[Dep]ALcode\", \"[Dep]FLnumber\", \"[Dep]OpsSuffix\"]] = aos[\"出発便航空機識別\"].str.extract(\n",
    "    \"([A-Za-z]+)(\\d*)([A-Za-z]*)\", expand=True\n",
    ")\n",
    "aos[\"link_arrival\"] = (\n",
    "    aos[\"[Arr]ALcode\"]\n",
    "    + aos[\"[Arr]FLnumber\"].replace({\"\": 0}).fillna(0).apply(lambda x: f\"{int(x):04d}\")\n",
    "    + aos[\"到着便検索用運航日\"].astype(\"str\")\n",
    "    + aos[\"ATA\"]\n",
    ").str.strip()\n",
    "\n",
    "aos[\"link_departure\"] = (\n",
    "    aos[\"[Dep]ALcode\"]\n",
    "    + aos[\"[Dep]FLnumber\"].replace({\"\": 0}).fillna(0).apply(lambda x: f\"{int(x):04d}\")\n",
    "    + aos[\"出発便検索用運航日\"].astype(\"str\")\n",
    "    + aos[\"ATD\"]\n",
    ").str.strip()\n",
    "\n",
    "# key for beontra\n",
    "beontra[[\"ALcode\", \"FLnumber\", \"OpsSuffix\"]] = beontra[\"Flight Number\"].str.extract(\n",
    "    \"(\\S*)(?>\\s)(\\d*)(.*)\", expand=True\n",
    ")\n",
    "\n",
    "\n",
    "beontra[\"link_arrival\"] = (\n",
    "    beontra[\"Carrier Code3L\"]\n",
    "    + beontra[\"FLnumber\"].replace({\"\": 0}).fillna(0).apply(lambda x: f\"{int(x):04d}\")\n",
    "    + beontra[\"Flight Date\"].apply(lambda x: x.replace(\"-\", \"\"))\n",
    "    + beontra[\"Actual Time\"].apply(lambda x: x.replace(\":\", \"\")[0:4])\n",
    ")\n",
    "\n",
    "beontra[\"link_departure\"] = beontra[\"link_arrival\"]"
   ]
  },
  {
   "cell_type": "code",
   "execution_count": null,
   "metadata": {},
   "outputs": [],
   "source": [
    "# join\n",
    "beontra_join_arrival = beontra[\n",
    "    [\"PAX_L_ADULT FC\", \"PAX_L_CHILD FC\", \"PAX_L_INFANT FC\", \"link_arrival\"]\n",
    "].set_index(\"link_arrival\")\n",
    "beontra_join_departure = beontra[\n",
    "    [\"PAX_L_ADULT FC\", \"PAX_L_CHILD FC\", \"PAX_L_INFANT FC\", \"link_departure\"]\n",
    "].set_index(\"link_departure\")\n",
    "\n",
    "aos_test = aos.join(beontra_join_arrival, on=\"link_arrival\")\n",
    "aos_test.rename(\n",
    "    columns={\n",
    "        \"PAX_L_ADULT FC\": \"[Arr] PaxADULT\",\n",
    "        \"PAX_L_CHILD FC\": \"[Arr] PaxCHILD\",\n",
    "        \"PAX_L_INFANT FC\": \"[Arr] PaxINFANT\",\n",
    "    },\n",
    "    inplace=True,\n",
    ")\n",
    "\n",
    "aos_test = aos_test.join(beontra_join_departure, on=\"link_departure\")\n",
    "aos_test.rename(\n",
    "    columns={\n",
    "        \"PAX_L_ADULT FC\": \"[Dep] PaxADULT\",\n",
    "        \"PAX_L_CHILD FC\": \"[Dep] PaxCHILD\",\n",
    "        \"PAX_L_INFANT FC\": \"[Dep] PaxINFANT\",\n",
    "    },\n",
    "    inplace=True,\n",
    ")"
   ]
  },
  {
   "cell_type": "code",
   "execution_count": null,
   "metadata": {},
   "outputs": [],
   "source": [
    "# drop duplicate link_arrival and link_departure\n",
    "# drop when not a correct ID (19 char) or STAY\n",
    "aos_final = aos_test.drop_duplicates(subset=[\"link_arrival\", \"link_departure\"])\n",
    "aos_final = aos_final[\n",
    "    (aos_final[\"link_departure\"].notna())\n",
    "    & (aos_final[\"link_arrival\"].notna())\n",
    "    # cannot remove those as we did not split arrivals and departures into their own lines\n",
    "    # & ~(aos_final[\"link_departure\"].str.startswith(\"STAY\", na=False))\n",
    "    # & ~(aos_final[\"link_arrival\"].str.startswith(\"STAY\", na=False))\n",
    "    # & (aos_final[\"link_departure\"].str.len() == 19)\n",
    "    # & (aos_final[\"link_arrival\"].str.len() == 19)\n",
    "]"
   ]
  },
  {
   "attachments": {},
   "cell_type": "markdown",
   "metadata": {},
   "source": [
    "## Check result"
   ]
  },
  {
   "cell_type": "code",
   "execution_count": null,
   "metadata": {},
   "outputs": [],
   "source": [
    "aos_arr_total = aos_final[\"[Arr] PaxADULT\"].sum()\n",
    "beontra_arr_total = beontra.loc[beontra[\"A/D\"] == \"A\", \"PAX_L_ADULT FC\"].sum()\n",
    "arr_total_diff = (aos_arr_total - beontra_arr_total) / beontra_arr_total\n",
    "\n",
    "aos_int_dep = aos_final.loc[(aos[\"出発便Ｄ／Ｉ区分\"] == \"I\"), \"[Dep] PaxADULT\"].sum()\n",
    "beontra_int_dep = beontra.loc[\n",
    "    (beontra[\"A/D\"] == \"D\") & (beontra[\"Sector\"] == \"I\"), \"PAX_L_ADULT FC\"\n",
    "].sum()\n",
    "dep_int_diff = (aos_int_dep - beontra_int_dep) / beontra_int_dep\n",
    "\n",
    "print(\n",
    "    f\"for arrivals total:\\n \\taos = {aos_arr_total:.0f} \\n \\tbeontra =\"\n",
    "    f\" {beontra_arr_total}\\n \\tdifference is\"\n",
    "    f\" {(aos_arr_total-beontra_arr_total):.0f} Pax ({arr_total_diff:.7%})\\n\"\n",
    ")\n",
    "print(\n",
    "    f\"for departures int'l:\\n \\taos = {aos_int_dep:.0f} \\n \\tbeontra =\"\n",
    "    f\" {beontra_int_dep}\\n \\tdifference is {aos_int_dep - beontra_int_dep:.0f} Pax\"\n",
    "    f\" ({dep_int_diff:.7%})\\n\"\n",
    ")"
   ]
  },
  {
   "cell_type": "code",
   "execution_count": null,
   "metadata": {},
   "outputs": [],
   "source": [
    "# beontra flight that did not match oas flights\n",
    "links = aos[\"link_arrival\"].to_list() + aos[\"link_departure\"].to_list()\n",
    "unmatched = beontra[~beontra[\"link_arrival\"].isin(links)]\n",
    "\n",
    "with pd.option_context(\n",
    "    # 'display.max_rows',\n",
    "    #   None,\n",
    "    \"display.max_columns\",\n",
    "    None,\n",
    "):\n",
    "    display(unmatched[unmatched[\"PAX_L_ADULT FC\"] > 5])"
   ]
  },
  {
   "cell_type": "code",
   "execution_count": null,
   "metadata": {},
   "outputs": [],
   "source": [
    "# check duplicate values\n",
    "with pd.option_context(\n",
    "    # 'display.max_rows',\n",
    "    #   None,\n",
    "    \"display.max_columns\",\n",
    "    None,\n",
    "):  # more options can be specified also\n",
    "    display(\n",
    "        aos[\n",
    "            (aos[\"link_departure\"].duplicated())\n",
    "            & (aos[\"link_departure\"].notna())\n",
    "            & ~(aos[\"link_departure\"].str.startswith(\"STAY\", na=False))\n",
    "            & (aos[\"link_departure\"].str.len() == 19)\n",
    "        ]\n",
    "    )"
   ]
  }
 ],
 "metadata": {
  "kernelspec": {
   "display_name": "forecasting",
   "language": "python",
   "name": "python3"
  },
  "language_info": {
   "codemirror_mode": {
    "name": "ipython",
    "version": 3
   },
   "file_extension": ".py",
   "mimetype": "text/x-python",
   "name": "python",
   "nbconvert_exporter": "python",
   "pygments_lexer": "ipython3",
   "version": "3.11.0"
  }
 },
 "nbformat": 4,
 "nbformat_minor": 2
}
